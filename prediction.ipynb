{
 "cells": [
  {
   "cell_type": "code",
   "execution_count": 9,
   "metadata": {},
   "outputs": [],
   "source": [
    "from sklearn.model_selection import train_test_split\n",
    "from sklearn.linear_model import LinearRegression\n",
    "from sklearn import metrics"
   ]
  },
  {
   "cell_type": "code",
   "execution_count": 8,
   "metadata": {},
   "outputs": [],
   "source": [
    "import pandas as pd\n",
    "import matplotlib.pyplot as plt\n",
    "%matplotlib inline"
   ]
  },
  {
   "cell_type": "code",
   "execution_count": 11,
   "metadata": {},
   "outputs": [],
   "source": [
    "dataset = pd.read_csv('TSLA.csv')"
   ]
  },
  {
   "cell_type": "code",
   "execution_count": 12,
   "metadata": {},
   "outputs": [
    {
     "data": {
      "text/html": [
       "<div>\n",
       "<style scoped>\n",
       "    .dataframe tbody tr th:only-of-type {\n",
       "        vertical-align: middle;\n",
       "    }\n",
       "\n",
       "    .dataframe tbody tr th {\n",
       "        vertical-align: top;\n",
       "    }\n",
       "\n",
       "    .dataframe thead th {\n",
       "        text-align: right;\n",
       "    }\n",
       "</style>\n",
       "<table border=\"1\" class=\"dataframe\">\n",
       "  <thead>\n",
       "    <tr style=\"text-align: right;\">\n",
       "      <th></th>\n",
       "      <th>Open</th>\n",
       "      <th>High</th>\n",
       "      <th>Low</th>\n",
       "      <th>Close</th>\n",
       "      <th>Adj Close</th>\n",
       "      <th>Volume</th>\n",
       "    </tr>\n",
       "  </thead>\n",
       "  <tbody>\n",
       "    <tr>\n",
       "      <th>count</th>\n",
       "      <td>253.000000</td>\n",
       "      <td>253.000000</td>\n",
       "      <td>253.000000</td>\n",
       "      <td>253.000000</td>\n",
       "      <td>253.000000</td>\n",
       "      <td>2.530000e+02</td>\n",
       "    </tr>\n",
       "    <tr>\n",
       "      <th>mean</th>\n",
       "      <td>289.108428</td>\n",
       "      <td>297.288412</td>\n",
       "      <td>280.697937</td>\n",
       "      <td>289.997067</td>\n",
       "      <td>289.997067</td>\n",
       "      <td>7.530795e+07</td>\n",
       "    </tr>\n",
       "    <tr>\n",
       "      <th>std</th>\n",
       "      <td>167.665389</td>\n",
       "      <td>171.702889</td>\n",
       "      <td>163.350196</td>\n",
       "      <td>168.995613</td>\n",
       "      <td>168.995613</td>\n",
       "      <td>4.013706e+07</td>\n",
       "    </tr>\n",
       "    <tr>\n",
       "      <th>min</th>\n",
       "      <td>74.940002</td>\n",
       "      <td>80.972000</td>\n",
       "      <td>70.101997</td>\n",
       "      <td>72.244003</td>\n",
       "      <td>72.244003</td>\n",
       "      <td>1.735770e+07</td>\n",
       "    </tr>\n",
       "    <tr>\n",
       "      <th>25%</th>\n",
       "      <td>148.367996</td>\n",
       "      <td>154.990005</td>\n",
       "      <td>143.222000</td>\n",
       "      <td>149.792007</td>\n",
       "      <td>149.792007</td>\n",
       "      <td>4.713450e+07</td>\n",
       "    </tr>\n",
       "    <tr>\n",
       "      <th>50%</th>\n",
       "      <td>244.296005</td>\n",
       "      <td>245.600006</td>\n",
       "      <td>237.119995</td>\n",
       "      <td>241.731995</td>\n",
       "      <td>241.731995</td>\n",
       "      <td>7.025550e+07</td>\n",
       "    </tr>\n",
       "    <tr>\n",
       "      <th>75%</th>\n",
       "      <td>421.390015</td>\n",
       "      <td>430.500000</td>\n",
       "      <td>410.579987</td>\n",
       "      <td>421.200012</td>\n",
       "      <td>421.200012</td>\n",
       "      <td>9.454550e+07</td>\n",
       "    </tr>\n",
       "    <tr>\n",
       "      <th>max</th>\n",
       "      <td>699.989990</td>\n",
       "      <td>718.719971</td>\n",
       "      <td>691.119995</td>\n",
       "      <td>705.669983</td>\n",
       "      <td>705.669983</td>\n",
       "      <td>3.046940e+08</td>\n",
       "    </tr>\n",
       "  </tbody>\n",
       "</table>\n",
       "</div>"
      ],
      "text/plain": [
       "             Open        High         Low       Close   Adj Close  \\\n",
       "count  253.000000  253.000000  253.000000  253.000000  253.000000   \n",
       "mean   289.108428  297.288412  280.697937  289.997067  289.997067   \n",
       "std    167.665389  171.702889  163.350196  168.995613  168.995613   \n",
       "min     74.940002   80.972000   70.101997   72.244003   72.244003   \n",
       "25%    148.367996  154.990005  143.222000  149.792007  149.792007   \n",
       "50%    244.296005  245.600006  237.119995  241.731995  241.731995   \n",
       "75%    421.390015  430.500000  410.579987  421.200012  421.200012   \n",
       "max    699.989990  718.719971  691.119995  705.669983  705.669983   \n",
       "\n",
       "             Volume  \n",
       "count  2.530000e+02  \n",
       "mean   7.530795e+07  \n",
       "std    4.013706e+07  \n",
       "min    1.735770e+07  \n",
       "25%    4.713450e+07  \n",
       "50%    7.025550e+07  \n",
       "75%    9.454550e+07  \n",
       "max    3.046940e+08  "
      ]
     },
     "execution_count": 12,
     "metadata": {},
     "output_type": "execute_result"
    }
   ],
   "source": [
    "dataset.describe()"
   ]
  },
  {
   "cell_type": "code",
   "execution_count": 14,
   "metadata": {},
   "outputs": [],
   "source": [
    "x = dataset[['High','Low','Open','Volume']].values\n",
    "y = dataset['Close'].values"
   ]
  },
  {
   "cell_type": "code",
   "execution_count": 15,
   "metadata": {},
   "outputs": [],
   "source": [
    "x_train,x_test,y_train,y_test = train_test_split(x,y,test_size=0.2,random_state=0)"
   ]
  },
  {
   "cell_type": "code",
   "execution_count": 16,
   "metadata": {},
   "outputs": [],
   "source": [
    "regressor = LinearRegression()"
   ]
  },
  {
   "cell_type": "code",
   "execution_count": 17,
   "metadata": {},
   "outputs": [
    {
     "data": {
      "text/plain": [
       "LinearRegression()"
      ]
     },
     "execution_count": 17,
     "metadata": {},
     "output_type": "execute_result"
    }
   ],
   "source": [
    "regressor.fit(x_train,y_train)"
   ]
  },
  {
   "cell_type": "code",
   "execution_count": 18,
   "metadata": {},
   "outputs": [
    {
     "name": "stdout",
     "output_type": "stream",
     "text": [
      "[ 9.21589767e-01  6.66672774e-01 -5.86584535e-01 -2.47044548e-09]\n"
     ]
    }
   ],
   "source": [
    "print(regressor.coef_)"
   ]
  },
  {
   "cell_type": "code",
   "execution_count": 19,
   "metadata": {},
   "outputs": [
    {
     "name": "stdout",
     "output_type": "stream",
     "text": [
      "-1.189602246053937\n"
     ]
    }
   ],
   "source": [
    "print(regressor.intercept_)"
   ]
  },
  {
   "cell_type": "code",
   "execution_count": 20,
   "metadata": {},
   "outputs": [],
   "source": [
    "predicted = regressor.predict(x_test)"
   ]
  },
  {
   "cell_type": "code",
   "execution_count": 21,
   "metadata": {},
   "outputs": [
    {
     "name": "stdout",
     "output_type": "stream",
     "text": [
      "[376.44949743 143.34251419 425.66407519 162.1915068  300.47410498\n",
      " 450.35033909 199.3793362  548.57183133  92.7536834  303.12803151\n",
      " 295.82019584 559.82865248 187.50288227 431.77299935 278.66260182\n",
      " 150.57285232 412.60255222 404.71175646 365.0910954  162.50743161\n",
      " 423.97090007 130.44722972 610.88254116 322.68773966 202.60101328\n",
      " 711.20029241 105.48613458  83.94090722 445.38772134 160.22584949\n",
      " 643.35590235 239.72095923 199.86040783 428.45477799 480.80672935\n",
      " 299.20114741 421.16204456  95.12856809 184.25881114 432.81998801\n",
      " 224.92125401 107.95165025 432.81683943 452.71481083 164.76064934\n",
      " 269.85205989 617.81956898 139.2549429   96.22537486 424.07339735\n",
      " 144.95294841]\n"
     ]
    }
   ],
   "source": [
    "print(predicted)"
   ]
  },
  {
   "cell_type": "code",
   "execution_count": 23,
   "metadata": {},
   "outputs": [],
   "source": [
    "dframe = pd.DataFrame({'Actual':y_test.flatten(),'Prediccion':predicted.flatten()})"
   ]
  },
  {
   "cell_type": "code",
   "execution_count": 24,
   "metadata": {},
   "outputs": [
    {
     "data": {
      "text/html": [
       "<div>\n",
       "<style scoped>\n",
       "    .dataframe tbody tr th:only-of-type {\n",
       "        vertical-align: middle;\n",
       "    }\n",
       "\n",
       "    .dataframe tbody tr th {\n",
       "        vertical-align: top;\n",
       "    }\n",
       "\n",
       "    .dataframe thead th {\n",
       "        text-align: right;\n",
       "    }\n",
       "</style>\n",
       "<table border=\"1\" class=\"dataframe\">\n",
       "  <thead>\n",
       "    <tr style=\"text-align: right;\">\n",
       "      <th></th>\n",
       "      <th>Actual</th>\n",
       "      <th>Prediccion</th>\n",
       "    </tr>\n",
       "  </thead>\n",
       "  <tbody>\n",
       "    <tr>\n",
       "      <th>0</th>\n",
       "      <td>377.417999</td>\n",
       "      <td>376.449497</td>\n",
       "    </tr>\n",
       "    <tr>\n",
       "      <th>1</th>\n",
       "      <td>140.264008</td>\n",
       "      <td>143.342514</td>\n",
       "    </tr>\n",
       "    <tr>\n",
       "      <th>2</th>\n",
       "      <td>407.000000</td>\n",
       "      <td>425.664075</td>\n",
       "    </tr>\n",
       "    <tr>\n",
       "      <th>3</th>\n",
       "      <td>161.162003</td>\n",
       "      <td>162.191507</td>\n",
       "    </tr>\n",
       "    <tr>\n",
       "      <th>4</th>\n",
       "      <td>297.915985</td>\n",
       "      <td>300.474105</td>\n",
       "    </tr>\n",
       "    <tr>\n",
       "      <th>5</th>\n",
       "      <td>448.880005</td>\n",
       "      <td>450.350339</td>\n",
       "    </tr>\n",
       "    <tr>\n",
       "      <th>6</th>\n",
       "      <td>198.863998</td>\n",
       "      <td>199.379336</td>\n",
       "    </tr>\n",
       "    <tr>\n",
       "      <th>7</th>\n",
       "      <td>555.380005</td>\n",
       "      <td>548.571831</td>\n",
       "    </tr>\n",
       "    <tr>\n",
       "      <th>8</th>\n",
       "      <td>90.893997</td>\n",
       "      <td>92.753683</td>\n",
       "    </tr>\n",
       "    <tr>\n",
       "      <th>9</th>\n",
       "      <td>300.127991</td>\n",
       "      <td>303.128032</td>\n",
       "    </tr>\n",
       "    <tr>\n",
       "      <th>10</th>\n",
       "      <td>297.003998</td>\n",
       "      <td>295.820196</td>\n",
       "    </tr>\n",
       "    <tr>\n",
       "      <th>11</th>\n",
       "      <td>568.820007</td>\n",
       "      <td>559.828652</td>\n",
       "    </tr>\n",
       "    <tr>\n",
       "      <th>12</th>\n",
       "      <td>188.134003</td>\n",
       "      <td>187.502882</td>\n",
       "    </tr>\n",
       "    <tr>\n",
       "      <th>13</th>\n",
       "      <td>429.010010</td>\n",
       "      <td>431.772999</td>\n",
       "    </tr>\n",
       "    <tr>\n",
       "      <th>14</th>\n",
       "      <td>274.877991</td>\n",
       "      <td>278.662602</td>\n",
       "    </tr>\n",
       "    <tr>\n",
       "      <th>15</th>\n",
       "      <td>150.778000</td>\n",
       "      <td>150.572852</td>\n",
       "    </tr>\n",
       "    <tr>\n",
       "      <th>16</th>\n",
       "      <td>420.630005</td>\n",
       "      <td>412.602552</td>\n",
       "    </tr>\n",
       "    <tr>\n",
       "      <th>17</th>\n",
       "      <td>418.320007</td>\n",
       "      <td>404.711756</td>\n",
       "    </tr>\n",
       "    <tr>\n",
       "      <th>18</th>\n",
       "      <td>367.127991</td>\n",
       "      <td>365.091095</td>\n",
       "    </tr>\n",
       "    <tr>\n",
       "      <th>19</th>\n",
       "      <td>165.520004</td>\n",
       "      <td>162.507432</td>\n",
       "    </tr>\n",
       "    <tr>\n",
       "      <th>20</th>\n",
       "      <td>419.070007</td>\n",
       "      <td>423.970900</td>\n",
       "    </tr>\n",
       "    <tr>\n",
       "      <th>21</th>\n",
       "      <td>121.599998</td>\n",
       "      <td>130.447230</td>\n",
       "    </tr>\n",
       "    <tr>\n",
       "      <th>22</th>\n",
       "      <td>609.989990</td>\n",
       "      <td>610.882541</td>\n",
       "    </tr>\n",
       "    <tr>\n",
       "      <th>23</th>\n",
       "      <td>313.671997</td>\n",
       "      <td>322.687740</td>\n",
       "    </tr>\n",
       "    <tr>\n",
       "      <th>24</th>\n",
       "      <td>205.009995</td>\n",
       "      <td>202.601013</td>\n",
       "    </tr>\n",
       "  </tbody>\n",
       "</table>\n",
       "</div>"
      ],
      "text/plain": [
       "        Actual  Prediccion\n",
       "0   377.417999  376.449497\n",
       "1   140.264008  143.342514\n",
       "2   407.000000  425.664075\n",
       "3   161.162003  162.191507\n",
       "4   297.915985  300.474105\n",
       "5   448.880005  450.350339\n",
       "6   198.863998  199.379336\n",
       "7   555.380005  548.571831\n",
       "8    90.893997   92.753683\n",
       "9   300.127991  303.128032\n",
       "10  297.003998  295.820196\n",
       "11  568.820007  559.828652\n",
       "12  188.134003  187.502882\n",
       "13  429.010010  431.772999\n",
       "14  274.877991  278.662602\n",
       "15  150.778000  150.572852\n",
       "16  420.630005  412.602552\n",
       "17  418.320007  404.711756\n",
       "18  367.127991  365.091095\n",
       "19  165.520004  162.507432\n",
       "20  419.070007  423.970900\n",
       "21  121.599998  130.447230\n",
       "22  609.989990  610.882541\n",
       "23  313.671997  322.687740\n",
       "24  205.009995  202.601013"
      ]
     },
     "execution_count": 24,
     "metadata": {},
     "output_type": "execute_result"
    }
   ],
   "source": [
    "dframe.head(25)"
   ]
  },
  {
   "cell_type": "code",
   "execution_count": 27,
   "metadata": {},
   "outputs": [
    {
     "name": "stdout",
     "output_type": "stream",
     "text": [
      "Mean absolute error: 4.698813610753321\n",
      "Mean squared error: 47.748725553680636\n",
      "Root mean squared error: 6.91004526422806\n"
     ]
    }
   ],
   "source": [
    "print('Mean absolute error:', metrics.mean_absolute_error(y_test, predicted))\n",
    "print('Mean squared error:', metrics.mean_squared_error(y_test, predicted))\n",
    "print('Root mean squared error:', math.sqrt(metrics.mean_squared_error(y_test, predicted)))"
   ]
  },
  {
   "cell_type": "code",
   "execution_count": 26,
   "metadata": {},
   "outputs": [],
   "source": [
    "import math"
   ]
  },
  {
   "cell_type": "code",
   "execution_count": 28,
   "metadata": {},
   "outputs": [],
   "source": [
    "graph = dframe.head(20)"
   ]
  },
  {
   "cell_type": "code",
   "execution_count": 29,
   "metadata": {},
   "outputs": [
    {
     "data": {
      "text/plain": [
       "<AxesSubplot:>"
      ]
     },
     "execution_count": 29,
     "metadata": {},
     "output_type": "execute_result"
    },
    {
     "data": {
      "image/png": "[encoded data removed]",
      "text/plain": [
       "<Figure size 432x288 with 1 Axes>"
      ]
     },
     "metadata": {
      "needs_background": "light"
     },
     "output_type": "display_data"
    }
   ],
   "source": [
    "graph.plot(kind='bar')"
   ]
  },
  {
   "cell_type": "code",
   "execution_count": null,
   "metadata": {},
   "outputs": [],
   "source": []
  }
 ],
 "metadata": {
  "kernelspec": {
   "display_name": "Python 3",
   "language": "python",
   "name": "python3"
  },
  "language_info": {
   "codemirror_mode": {
    "name": "ipython",
    "version": 3
   },
   "file_extension": ".py",
   "mimetype": "text/x-python",
   "name": "python",
   "nbconvert_exporter": "python",
   "pygments_lexer": "ipython3",
   "version": "3.8.5"
  }
 },
 "nbformat": 4,
 "nbformat_minor": 4
}
